{
  "nbformat": 4,
  "nbformat_minor": 0,
  "metadata": {
    "colab": {
      "name": "word2vec_w2_origin.ipynb",
      "provenance": [],
      "collapsed_sections": []
    },
    "kernelspec": {
      "name": "python3",
      "display_name": "Python 3"
    },
    "accelerator": "GPU"
  },
  "cells": [
    {
      "cell_type": "markdown",
      "metadata": {
        "id": "B2Cl4rpFfz_C"
      },
      "source": [
        "train 데이터를 테스트용과 학습용으로 구분"
      ]
    },
    {
      "cell_type": "code",
      "metadata": {
        "id": "qfEye8OaeNVu",
        "outputId": "1747dabc-8f75-42b5-bd35-df79baee487d",
        "colab": {
          "base_uri": "https://localhost:8080/"
        }
      },
      "source": [
        "# google colab에서 사용할 데이터를 드라이브에 업로드 후 사용하기 위해 필요한 패키지\n",
        "from google.colab import drive\n",
        "drive.mount('/content/drive/', force_remount=True)\n",
        "\n",
        "import os, sys\n",
        "# sys.path.append('/content/drive/melon_data/')\n",
        "my_path = '/content/notebook'\n",
        "# Colab Notebooks 안에 my_env 폴더에 패키지 저장\n",
        "os.symlink('/content/drive/My Drive/Colab Notebooks/my_env/', my_path)\n",
        "sys.path.insert(0, my_path)\n",
        "# sys.path.update()\n",
        "\n",
        "path = '/content/drive/My Drive/melon_data/'"
      ],
      "execution_count": 1,
      "outputs": [
        {
          "output_type": "stream",
          "text": [
            "Mounted at /content/drive/\n"
          ],
          "name": "stdout"
        }
      ]
    },
    {
      "cell_type": "code",
      "metadata": {
        "id": "bERyQh7wfzmP",
        "outputId": "dd42fec7-603f-47ad-ec07-83bfe2d16292",
        "colab": {
          "base_uri": "https://localhost:8080/"
        }
      },
      "source": [
        "from split_data import ArenaSplitter\n",
        "\n",
        "spliter = ArenaSplitter()\n",
        "spliter.run(fname='/content/drive/My Drive/melon_data/train.json')\n"
      ],
      "execution_count": 2,
      "outputs": [
        {
          "output_type": "stream",
          "text": [
            "Reading data...\n",
            "\n",
            "Total playlists: 115071\n",
            "Splitting data...\n",
            "Original train...\n",
            "Original val...\n",
            "Masked val...\n",
            "Total: 23015, Song only: 6904, Song & Tags: 11508, Tags only: 3452, Title only: 1151\n"
          ],
          "name": "stdout"
        }
      ]
    },
    {
      "cell_type": "markdown",
      "metadata": {
        "id": "XHZWCTZQC4z_"
      },
      "source": [
        "장르별 최빈도 곡과 플레이리스트의 최빈도 태그를 구하는 모듈을 통해 results.json을 생성한다."
      ]
    },
    {
      "cell_type": "code",
      "metadata": {
        "id": "__2LJYTODI90",
        "outputId": "f58f2373-099c-41aa-b966-0406e94eb894",
        "colab": {
          "base_uri": "https://localhost:8080/"
        }
      },
      "source": [
        "from genre_most_popular import GenreMostPopular\n",
        "genreMostPopular = GenreMostPopular()\n",
        "genreMostPopular.run(song_meta_fname=path+'song_meta.json', train_fname='arena_data/orig/train.json', question_fname='arena_data/questions/val.json')"
      ],
      "execution_count": 3,
      "outputs": [
        {
          "output_type": "stream",
          "text": [
            "Loading song meta...\n",
            "Loading train file...\n",
            "Loading question file...\n",
            "Writing answers...\n"
          ],
          "name": "stdout"
        },
        {
          "output_type": "stream",
          "text": [
            "100%|██████████| 23015/23015 [00:02<00:00, 10387.38it/s]\n"
          ],
          "name": "stderr"
        }
      ]
    },
    {
      "cell_type": "markdown",
      "metadata": {
        "id": "fv-5EmQu2STS"
      },
      "source": [
        "테스트용 데이터셋을 각 플레이리스트의 태그와 곡을 50%만 추출하여 questions/val.json 로 모델을 학습시킨다.\n"
      ]
    },
    {
      "cell_type": "markdown",
      "metadata": {
        "id": "wcL7oC1e7cqR"
      },
      "source": [
        "- word2vec을 학습시키기 위한 데이터 전처리 작업 수행"
      ]
    },
    {
      "cell_type": "code",
      "metadata": {
        "id": "WoU1My0k7Dta"
      },
      "source": [
        "# 필요한 패키지 import\n",
        "from collections import Counter  # 빈도를 셀 때 유용한 패키지\n",
        "\n",
        "import fire\n",
        "\n",
        "# 머신 러닝 관련 진행 상황을 확인할 수 있는 패키지\n",
        "from tqdm import tqdm \n",
        "\n",
        "# 아레나에서 제공하는 모듈\n",
        "from arena_util import load_json\n",
        "from arena_util import write_json\n",
        "from arena_util import remove_seen\n",
        "from arena_util import most_popular\n",
        "\n",
        "\n",
        "import pandas as pd\n",
        "import pickle\n",
        "import time\n",
        "\n",
        "from tqdm import tqdm\n",
        "# from word2vec import Word2VecTrainer\n",
        "# from myimplicit import calculate_similar_playlists"
      ],
      "execution_count": 4,
      "outputs": []
    },
    {
      "cell_type": "code",
      "metadata": {
        "id": "tS0UU7ry6Y8d"
      },
      "source": [
        "# 데이터 로딩\n",
        "song_meta_json = load_json(path + 'song_meta.json')\n",
        "train_data = load_json('arena_data/orig/train.json')\n",
        "questions = load_json('arena_data/questions/val.json')"
      ],
      "execution_count": 5,
      "outputs": []
    },
    {
      "cell_type": "code",
      "metadata": {
        "id": "ueLr3I8X8AP7"
      },
      "source": [
        "new_train_fname = './res/train_val.json'\n",
        "train = train_data\n",
        "val = questions\n",
        "write_json(train+val, './../res/train_val.json')"
      ],
      "execution_count": 6,
      "outputs": []
    },
    {
      "cell_type": "markdown",
      "metadata": {
        "id": "GDrIbvKE8rUr"
      },
      "source": [
        "- _train(new_train_fname, test_fname)"
      ]
    },
    {
      "cell_type": "code",
      "metadata": {
        "id": "MD6N9CtG8jOQ"
      },
      "source": [
        "# 데이터를 로딩하여 데이터 프레임화\n",
        "test_fname = 'arena_data/orig/train.json'\n",
        "train_fname = new_train_fname\n",
        "train = pd.read_json(train_fname, encoding='UTF-8')\n",
        "test = pd.read_json(test_fname, encoding='UTF-8')\n",
        "data = pd.concat([train, test])"
      ],
      "execution_count": 7,
      "outputs": []
    },
    {
      "cell_type": "markdown",
      "metadata": {
        "id": "jT0twLvz-tlw"
      },
      "source": [
        "- word2vec 모델 생성       \n",
        "  -  myw2v = Word2VecTrainer\n",
        "(train_fname=train_fname,             test_fname=test_fname,                  most_results_fname=\"./arena_data/results/results.json\")"
      ]
    },
    {
      "cell_type": "code",
      "metadata": {
        "id": "rk7r09Pt_wdm"
      },
      "source": [
        "# word2vec 모델 생성 및 학습과 관련된 패키지\n",
        "import pandas as pd\n",
        "import random\n",
        "import pickle\n",
        "import time\n",
        "from tqdm import tqdm\n",
        "from arena_util import remove_seen, write_json, load_json\n",
        "\n",
        "from gensim.models import Word2Vec\n",
        "from gensim.models.keyedvectors import WordEmbeddingsKeyedVectors\n",
        "from gensim.parsing.preprocessing import preprocess_string, strip_punctuation, remove_stopwords, stem_text, strip_multiple_whitespaces"
      ],
      "execution_count": 8,
      "outputs": []
    },
    {
      "cell_type": "code",
      "metadata": {
        "id": "t30o-TiC_gGQ"
      },
      "source": [
        "# 모델 생성을 위해 필요한 파라미터들 초깃값\n",
        "train_fname=\"arena_data/orig/train.json\"\n",
        "test_fname=\"arena_data/questions/val.json\"\n",
        "most_results_fname=\"./arena_data/results/results.json\"\n",
        "\n",
        "train = pd.read_json(train_fname, encoding='UTF-8')\n",
        "test = pd.read_json(test_fname, encoding='UTF-8')\n",
        "song_meta = pd.read_json(path + \"song_meta.json\", encoding='UTF-8')\n",
        "most_results = pd.read_json(most_results_fname, encoding='UTF-8')\n"
      ],
      "execution_count": 9,
      "outputs": []
    },
    {
      "cell_type": "markdown",
      "metadata": {
        "id": "B1_Qn4OHA3V9"
      },
      "source": [
        "- word2vec 모델 전처리 및 학습\n",
        "  - myw2v.run(topn=80, song_weight=1, tag_weight=2, title_weight=4,tag_filename = 'model_tag_w1.pkl', save_model=True)\n",
        "\n",
        "    min_count = 1 # 등장 횟수에 대한 파라미터로 빈도수가 해당 값 이하면 무시\n",
        "\n",
        "    size = 200 # n차원짜리 벡터스페이스. 벡터 차원이 높을수록 항상 좋은 것은 아니지만 대체적으로 더 나은 모델이 될 수 있다.\n",
        "\n",
        "    windows = 100 # 창 크기. 학습 알고리즘이 고려해야 하는 컨텍스트 단어 수\n",
        "\n",
        "    sg=1 (1= skip-gram으로 느리지만 더 나은 결과를 낸다)"
      ]
    },
    {
      "cell_type": "code",
      "metadata": {
        "id": "q71QBX1FdwKy"
      },
      "source": [
        "sg = 1 # skip-gram 사용 / 0이면 CBOW 사용\n",
        "topn=150\n",
        "min_count = 1\n",
        "size = 150\n",
        "windows = 100\n",
        "\n",
        "custom_filters = [remove_stopwords, stem_text, strip_punctuation, strip_multiple_whitespaces]\n",
        "song_weight=1\n",
        "title_weight=1\n",
        "tag_weight=5        \n",
        "tag_filename = 'model_tag_tag5.pkl'\n",
        "with_w2v_model=False\n",
        "w2v_model=None\n",
        "save_model=True\n",
        "write_results = True"
      ],
      "execution_count": 10,
      "outputs": []
    },
    {
      "cell_type": "markdown",
      "metadata": {
        "id": "FCaf9J-aFNs0"
      },
      "source": [
        "  - myw2v.run\n",
        "    - _get_dic(self.train, self.test, self.song_meta)"
      ]
    },
    {
      "cell_type": "code",
      "metadata": {
        "id": "XP-pQIoHGUlr"
      },
      "source": [
        "# 필요한 함수 정의 \n",
        "def date2int(date_str):\n",
        "    return int(date_str[:4]) * 10000 + int(date_str[5:7]) * 100 + int(date_str[8:10])\n",
        "\n",
        "# 리스트를 섞어주는 함수\n",
        "def shuffle_list(lst, seed=0):\n",
        "    random.seed(seed)\n",
        "    random.shuffle(lst)\n",
        "    return lst\n",
        "\n",
        "def tostring(lst):\n",
        "    return [str(x) for x in lst]"
      ],
      "execution_count": 11,
      "outputs": []
    },
    {
      "cell_type": "code",
      "metadata": {
        "id": "1py1L2wOFIzD",
        "outputId": "0ea329fd-9969-4021-9fcc-4891b983d72f",
        "colab": {
          "base_uri": "https://localhost:8080/"
        }
      },
      "source": [
        "# _get_dic(self, train, test, song_meta):\n",
        "train = train\n",
        "test = test\n",
        "song_meta = song_meta\n",
        "\n",
        "tqdm.pandas() # pandas 객체에 대한 수행 정도를 프로그래스바로 표출해주는 패키지\n",
        "data = pd.concat([train, test])\n",
        "data = data.set_index('id')  # 플레이리스트 id를 인덱스명으로 변환\n",
        "\n",
        "# 플레이리스트별 곡정보(곡id)를 문자열로 변환한 후 key:플레이리스트id, value:[곡id(문자열)] 객체 생성\n",
        "song_dict = data['songs'].apply(lambda x : shuffle_list(x, 123)).apply(lambda x : tostring(x)).to_dict()\n",
        "\n",
        "# 플레이 리스트별 태그 정보를  key:플레이리스트id, value : [태그] 객체 생성\n",
        "tag_dict = data['tags'].apply(lambda x : shuffle_list(x, 123)).to_dict()\n",
        "\n",
        "# (1) tqdm.pandas()를 통해서 dataframe에서 진행 상황을 확인할 수 있게 되었으므로\n",
        "# progress_apply를 사용할 수 있다.\n",
        "\n",
        "# (2) preprocess_string()을 통해서 간단하게 문자열 전처리 가능(특수문자 제거, 단어(띄어쓰기로 구분하여 배열로 반환))\n",
        "\n",
        "# song_dict[x['id']] ==> 플레이리스트 id가 61281인 것을 키로 하는 값(즉, 플레이리스트 수록곡)\n",
        "# tag_dict[x['id']] ==> 플레이리스트 id가 61281인 것을 키로 하는 값(즉, 플레이리스트 태그들)\n",
        "\n",
        "# preprocess_string('편하게, 잔잔하게 들을 수 있는 곡.-', custom_filters)\n",
        "# ===> ['편하게', '잔잔하게', '들을', '수', '있는', '곡']\n",
        "\n",
        "# preprocess_string('짝사랑..고백..사랑..이별..슬픔.. 감성을 자극하는곡들!', custom_filters)\n",
        "# ==> ['짝사랑', '고백', '사랑', '이별', '슬픔', '감성을', '자극하는곡들']\n",
        "\n",
        "\n",
        "\n",
        "data = data.reset_index() # 다시 id를 컬럼으로 변환\n",
        "total = data.progress_apply(lambda x : song_dict[x['id']] + tag_dict[x['id']] + preprocess_string(x['plylst_title'], custom_filters), axis = 1)"
      ],
      "execution_count": 12,
      "outputs": [
        {
          "output_type": "stream",
          "text": [
            "100%|██████████| 115071/115071 [00:05<00:00, 21495.77it/s]\n"
          ],
          "name": "stderr"
        }
      ]
    },
    {
      "cell_type": "code",
      "metadata": {
        "id": "O1oPZHPlXsb1",
        "outputId": "dcf84af5-59d3-48d2-e364-4b9ad0c9a4e4",
        "colab": {
          "base_uri": "https://localhost:8080/",
          "height": 94
        }
      },
      "source": [
        "print(total[92056])\n",
        "data[data['id'] == \t98906]"
      ],
      "execution_count": 71,
      "outputs": [
        {
          "output_type": "stream",
          "text": [
            "['좋은노래', '퇴근길', '듣기좋은', '좋아서', '듣는', '노래']\n"
          ],
          "name": "stdout"
        },
        {
          "output_type": "execute_result",
          "data": {
            "text/html": [
              "<div>\n",
              "<style scoped>\n",
              "    .dataframe tbody tr th:only-of-type {\n",
              "        vertical-align: middle;\n",
              "    }\n",
              "\n",
              "    .dataframe tbody tr th {\n",
              "        vertical-align: top;\n",
              "    }\n",
              "\n",
              "    .dataframe thead th {\n",
              "        text-align: right;\n",
              "    }\n",
              "</style>\n",
              "<table border=\"1\" class=\"dataframe\">\n",
              "  <thead>\n",
              "    <tr style=\"text-align: right;\">\n",
              "      <th></th>\n",
              "      <th>id</th>\n",
              "      <th>tags</th>\n",
              "      <th>plylst_title</th>\n",
              "      <th>songs</th>\n",
              "      <th>like_cnt</th>\n",
              "      <th>updt_date</th>\n",
              "    </tr>\n",
              "  </thead>\n",
              "  <tbody>\n",
              "    <tr>\n",
              "      <th>92056</th>\n",
              "      <td>98906</td>\n",
              "      <td>[좋은노래, 퇴근길]</td>\n",
              "      <td>듣기좋은, 좋아서 듣는 노래</td>\n",
              "      <td>[]</td>\n",
              "      <td>7</td>\n",
              "      <td>2018-03-03 10:23:59.000</td>\n",
              "    </tr>\n",
              "  </tbody>\n",
              "</table>\n",
              "</div>"
            ],
            "text/plain": [
              "          id         tags  ... like_cnt                updt_date\n",
              "92056  98906  [좋은노래, 퇴근길]  ...        7  2018-03-03 10:23:59.000\n",
              "\n",
              "[1 rows x 6 columns]"
            ]
          },
          "metadata": {
            "tags": []
          },
          "execution_count": 71
        }
      ]
    },
    {
      "cell_type": "markdown",
      "metadata": {
        "id": "UNCk38_6HZbM"
      },
      "source": [
        "  - myw2v.run\n",
        "    - _get_w2v(self, save_model=True):"
      ]
    },
    {
      "cell_type": "code",
      "metadata": {
        "id": "oObuJAzrBgvx",
        "outputId": "74a7ebf6-e840-4233-8b14-42d4e4d0fbd9",
        "colab": {
          "base_uri": "https://localhost:8080/"
        }
      },
      "source": [
        "# w2v_model 생성  _get_dic(train, test, song_meta)\n",
        "if with_w2v_model :\n",
        "            with open(w2v_model, 'rb') as f:\n",
        "                w2v_model = pickle.load(f)\n",
        "            print(\"Traning Started with \" + w2v_model)\n",
        "else:    \n",
        "  print(\"Started traing Embedding... This might take about 35mins\")\n",
        "  time1 = time.time()\n",
        "\n",
        "  # 워드 임베딩 학습\n",
        "  w2v_model = Word2Vec(total, min_count = min_count, size = size, window = windows, sg = sg)\n",
        "  time2 = time.time()\n",
        "  print(\"Embedding completed. Took \" + \"{:.2f}\".format((time2 - time1)/60) + \"min \")\n",
        "  \n",
        "  if save_model:  # 생성한 w2v_model 객체 저장\n",
        "      with open('./w2v_model.pkl', 'wb') as f: \n",
        "          pickle.dump(w2v_model, f)\n",
        "\n",
        "# - _playlist2vec(self, song_weight = 1, tag_weight = 1, title_weight = 1):\n",
        "# 파라미터\n",
        "song_weight = song_weight\n",
        "tag_weight = tag_weight\n",
        "title_weight = title_weight \n",
        "\n",
        "\n",
        "p2v_model = WordEmbeddingsKeyedVectors(size) # size의 차원을 갖는 플레이리스트 별 텍스트 유사성 계산\n",
        "id = []   \n",
        "vec = []\n",
        "\n",
        " # 병합한 데이터셋의 각 로우 : 플레이리스트\n",
        "for index, q in tqdm(pd.concat([train, test]).iterrows()):\n",
        "    tmp_vec = 0\n",
        "\n",
        "    # 플레이리스트 수록곡에 대한 벡터\n",
        "    for song in song_dict[q['id']]:# 플레이리스트id를 키로하고 값으로 수록곡의 id를 갖는 song_dict\n",
        "        try:\n",
        "            tmp_vec += song_weight * w2v_model.wv.get_vector(song) / len(song_dict[q['id']])\n",
        "\n",
        "          # print(tmp_vec) \n",
        "          # size를 30으로 지정하였기 때문에 30차원으로 벡터 생성\n",
        "          # [-0.04565794 -0.00080117 -0.02168215  0.01747584  0.06025441  0.00704412\n",
        "          #  -0.02204387 -0.00441014  0.01772415 -0.04369087  0.08125857 -0.00680283\n",
        "          #  -0.03067778 -0.00351514  0.06477551  0.02516165  0.04594948  0.02300223\n",
        "          #   0.01612392  0.03617761 -0.00340544  0.00590389  0.0270429  -0.10106849\n",
        "          #  -0.08605913 -0.02068624 -0.01987263  0.02467927  0.02344197  0.03391267]\n",
        "        except KeyError:\n",
        "            pass\n",
        "\n",
        "    # 플레이리스트 태그에 대한 벡터\n",
        "    for tag in tag_dict[q['id']]:\n",
        "        try:\n",
        "            tmp_vec += tag_weight * w2v_model.wv.get_vector(tag) / len(tag_dict[q['id']])\n",
        "            #  print(tmp_vec)\n",
        "#             [-1.9040258   0.08954743  0.3289404   0.91529715  0.96392727 -0.2931328\n",
        "#              -0.35585323  0.2304528   0.56685305 -1.4785134   0.03428814 -0.5244386\n",
        "#              -0.00312252  0.45633057  1.3063939   0.20776808  1.1807116   0.5872683\n",
        "#               0.6058322   0.01001734 -0.2290308  -0.18858755  0.5771195  -1.9147067\n",
        "#              -1.8851228   0.20355189  0.41872978  0.2855205   0.7544385   0.29815733]\n",
        "        except KeyError:\n",
        "            pass\n",
        "    # 플레이리스트 제목에 대한 벡터\n",
        "    for title_word in preprocess_string(q['plylst_title'], custom_filters):\n",
        "        try:\n",
        "            tmp_vec += title_weight * w2v_model.wv.get_vector(title_word) / len(preprocess_string(q['plylst_title'], custom_filters))\n",
        "        except KeyError:\n",
        "            pass\n",
        "\n",
        "    if type(tmp_vec) != int: # tmp_vec의 데이터 타입이 int가 아니면 ==> 반환된 벡터가 있다면\n",
        "#         print(id)\n",
        "        id.append(str(q['id'])) # 플레이리스트id에 해당하는 값을 문자열로 변환하여, id에 append\n",
        "        vec.append(tmp_vec) # 각 플레이리스트의 곡, 태그, 제목을 벡터화하여 더한 값을 vec에 append\n",
        "    \n",
        "id = id\n",
        "p2v_model.add(id, vec) # 플레이리스트 id, 플레이리스트의 속성(곡, 태그, 제목)을 임베딩하여 벡터화한 값\n",
        "\n",
        "# _get_results(self, topn = 80, tag_filename = './w2v_tags.pkl'):\n",
        "topn = topn\n",
        "tag_filename = tag_filename\n",
        "\n",
        "print(\"extracting results\")\n",
        "answers = []\n",
        "tags = []\n",
        "for index, q in tqdm(test.iterrows()): # test 데이터의 각 로우 : 플레이리스트\n",
        "    if str(q['id']) in id:# id[]에 플레이리스트 id가 존재하는 경우,\n",
        "        # p2v모델에서 test할 플레이리스트 id를 가진 것과 가장 유사한 id를 topn개 추출\n",
        "        most_id = [x[0] for x in p2v_model.most_similar(str(q['id']), topn=topn)]\n",
        "        get_song = []\n",
        "        get_tag = []\n",
        "        for id in most_id:\n",
        "            get_song += song_dict[int(id)]# 가장 유사한 플레이리스트들의 수록곡\n",
        "            get_tag += tag_dict[int(id)] # 가장 유사한 플레이리스트들의 태그들\n",
        "            \n",
        "        get_song = list(pd.value_counts(get_song)[:200].index) # 200곡 만 추출\n",
        "        get_song = [int(x) for x in get_song] # 문자열로 작성된 곡 id를 숫자형으로 변환\n",
        "        tags.append(get_tag)\n",
        "\n",
        "        # 아래는 플레이리스트 업데이트 시간 이후 발매된 곡은 추천하지 않도록 하는 것이다.\n",
        "        # 주어진 플레이리스트에 있을만한 곡을 예측하는 것이기 때문에 설정한 값인듯\n",
        "        updt_date = date2int(q['updt_date'])\n",
        "        song_date = song_meta.loc[get_song, 'issue_date']\n",
        "        get_song = pd.Series(get_song)[[x <= updt_date for x in song_date]] \n",
        "        get_tag = list(pd.value_counts(get_tag)[:20].index)\n",
        "\n",
        "        answers.append({\n",
        "            \"id\": q[\"id\"],\n",
        "            \"songs\": remove_seen(q[\"songs\"], get_song)[:100],\n",
        "            \"tags\": remove_seen(q[\"tags\"], get_tag)[:10],\n",
        "        })\n",
        "    else: # id[]에 플레이리스트 id가 존재하지 않는 경우,\n",
        "        tags.append([])  # 빈 태그 예측\n",
        "        answers.append({\n",
        "          \"id\": most_results.loc[index][\"id\"],\n",
        "          \"songs\": most_results.loc[index]['songs'],# most_popular에서 추출한 장르별 최빈도 곡\n",
        "          \"tags\": most_results.loc[index][\"tags\"],# most_popular에서 추출한 최빈도 곡태그\n",
        "        })\n",
        "        \n",
        "# check and update answer\n",
        "for n, q in enumerate(answers):\n",
        "  try :\n",
        "    if len(q['songs'])!=100: # 추출된 예측 곡이 100개가 되지 못하면 최빈도로 구한 곡에서 몇개 가져옴\n",
        "        answers[n]['songs'] += remove_seen(q['songs'], most_results.loc[n]['songs'])[:100-len(q['songs'])]\n",
        "    if len(q['tags'])!=10:\n",
        "        answers[n]['tags'] += remove_seen(q['tags'], most_results.loc[n]['tags'])[:10-len(q['tags'])]  \n",
        "  except KeyError :\n",
        "    pass\n",
        "\n",
        "answers = answers\n",
        "tags = tags\n",
        "\n",
        "with open(tag_filename, 'wb') as f:\n",
        "    pickle.dump(tags, f)\n",
        "print(\"tags written to \" + tag_filename)\n",
        "\n",
        "\n",
        "write_results = True\n",
        "if(write_results):\n",
        "    write_json(answers, \"./results/results.json\")\n",
        "\n"
      ],
      "execution_count": 14,
      "outputs": [
        {
          "output_type": "stream",
          "text": [
            "Started traing Embedding... This might take about 35mins\n",
            "Embedding completed. Took 41.22min \n"
          ],
          "name": "stdout"
        },
        {
          "output_type": "stream",
          "text": [
            "115071it [01:29, 1288.91it/s]\n",
            "0it [00:00, ?it/s]/usr/local/lib/python3.6/dist-packages/gensim/matutils.py:737: FutureWarning: Conversion of the second argument of issubdtype from `int` to `np.signedinteger` is deprecated. In future, it will be treated as `np.int64 == np.dtype(int).type`.\n",
            "  if np.issubdtype(vec.dtype, np.int):\n",
            "1it [00:00,  7.29it/s]"
          ],
          "name": "stderr"
        },
        {
          "output_type": "stream",
          "text": [
            "extracting results\n"
          ],
          "name": "stdout"
        },
        {
          "output_type": "stream",
          "text": [
            "23015it [00:11, 1974.57it/s]\n"
          ],
          "name": "stderr"
        },
        {
          "output_type": "stream",
          "text": [
            "tags written to model_tag_tag5.pkl\n"
          ],
          "name": "stdout"
        }
      ]
    },
    {
      "cell_type": "code",
      "metadata": {
        "id": "CvK6CvDqZCX6",
        "outputId": "ad018257-c8e1-4f26-d65e-e61c10e81ae3",
        "colab": {
          "base_uri": "https://localhost:8080/"
        }
      },
      "source": [
        "# p2v_model.most_similar(str(136555), topn=topn)\n",
        "p2v_model.get_vector(str(98906))\n"
      ],
      "execution_count": 73,
      "outputs": [
        {
          "output_type": "execute_result",
          "data": {
            "text/plain": [
              "array([ 0.79248989, -4.79923201,  3.13499331,  2.2403059 , -0.71109766,\n",
              "       -0.24234186,  0.81300825,  1.16993129, -0.87729043, -1.36111498,\n",
              "        0.14313479,  0.6634022 ,  0.01262588, -0.86097521, -1.33925653,\n",
              "       -0.69053715, -0.14812325,  0.29269749,  3.81254673, -0.99004757,\n",
              "        0.54842728, -2.30717754, -2.00491118,  1.66831827, -1.56661594,\n",
              "        3.29112601, -0.80598533, -2.79047704,  1.32879865,  1.42013025,\n",
              "       -0.20750301, -2.3087647 , -0.5689798 ,  1.55505204, -2.35712123,\n",
              "       -0.97213835,  1.98404896,  1.50481546, -0.40067652, -1.48690569,\n",
              "        0.07291625, -1.60640442, -2.27486134,  0.7363804 ,  4.07068634,\n",
              "        2.67006302, -1.64201844,  0.86746323, -0.73713374,  3.60533094,\n",
              "       -0.84034514, -1.46857631, -1.27185941,  0.36380965, -1.39114141,\n",
              "       -0.86746466, -1.08718157, -2.44982386,  0.6354633 ,  2.44016862,\n",
              "       -1.52987623,  1.05234873, -3.64600825, -3.05636692,  2.08586621,\n",
              "        2.61181617, -1.59590673, -0.00830192, -2.70062995,  1.31939232,\n",
              "       -1.2294203 , -1.1799736 , -1.09805918,  5.23267746,  0.57583559,\n",
              "       -2.81491876,  2.44514465,  0.29398185, -4.55340195, -0.98100442,\n",
              "        1.63972509, -1.79609263, -0.26529837,  1.42314756, -0.18204841,\n",
              "        0.92877179, -1.45639729, -0.58407485,  0.0921841 , -1.23727298,\n",
              "       -0.98167998,  0.65646964, -0.64840609, -1.40987468, -1.37957191,\n",
              "        1.10513401, -0.5505507 ,  0.42068154,  2.76477408, -0.06672392,\n",
              "        1.64982152, -1.04663527, -1.0795393 , -1.62093675, -0.31274199,\n",
              "        0.85382217,  0.98225427, -0.1983825 , -0.8590517 ,  0.71487761,\n",
              "        1.64279819, -1.77736557, -0.61382443,  1.0919981 , -1.48907793,\n",
              "        0.90190452,  1.49406672, -0.10676186,  1.00459504,  3.18575883,\n",
              "        0.72510922,  1.38968813,  1.05266333,  1.31776857, -2.90409184,\n",
              "        1.54255652, -3.69286346,  3.15855622,  2.2000041 ,  0.26495039,\n",
              "        0.91480744, -1.28472233,  1.47366059, -1.86640656,  2.86081696,\n",
              "       -0.67372102,  1.92020929,  0.71912932, -0.2544294 ,  2.51824808,\n",
              "       -0.67447793,  0.17868312,  2.83666134,  0.55705285, -0.68288732,\n",
              "        3.3847332 , -0.23893154, -1.36193514, -3.42485976, -1.52461648])"
            ]
          },
          "metadata": {
            "tags": []
          },
          "execution_count": 73
        }
      ]
    },
    {
      "cell_type": "code",
      "metadata": {
        "id": "NxZ_wolha4Fs",
        "outputId": "cf7c19b1-7d9d-4436-c9a5-bf73efc0e8cb",
        "colab": {
          "base_uri": "https://localhost:8080/",
          "height": 77
        }
      },
      "source": [
        "test.head(1)"
      ],
      "execution_count": 62,
      "outputs": [
        {
          "output_type": "execute_result",
          "data": {
            "text/html": [
              "<div>\n",
              "<style scoped>\n",
              "    .dataframe tbody tr th:only-of-type {\n",
              "        vertical-align: middle;\n",
              "    }\n",
              "\n",
              "    .dataframe tbody tr th {\n",
              "        vertical-align: top;\n",
              "    }\n",
              "\n",
              "    .dataframe thead th {\n",
              "        text-align: right;\n",
              "    }\n",
              "</style>\n",
              "<table border=\"1\" class=\"dataframe\">\n",
              "  <thead>\n",
              "    <tr style=\"text-align: right;\">\n",
              "      <th></th>\n",
              "      <th>tags</th>\n",
              "      <th>id</th>\n",
              "      <th>plylst_title</th>\n",
              "      <th>songs</th>\n",
              "      <th>like_cnt</th>\n",
              "      <th>updt_date</th>\n",
              "    </tr>\n",
              "  </thead>\n",
              "  <tbody>\n",
              "    <tr>\n",
              "      <th>0</th>\n",
              "      <td>[좋은노래, 퇴근길]</td>\n",
              "      <td>98906</td>\n",
              "      <td>듣기좋은, 좋아서 듣는 노래</td>\n",
              "      <td>[]</td>\n",
              "      <td>7</td>\n",
              "      <td>2018-03-03 10:23:59.000</td>\n",
              "    </tr>\n",
              "  </tbody>\n",
              "</table>\n",
              "</div>"
            ],
            "text/plain": [
              "          tags     id     plylst_title songs  like_cnt                updt_date\n",
              "0  [좋은노래, 퇴근길]  98906  듣기좋은, 좋아서 듣는 노래    []         7  2018-03-03 10:23:59.000"
            ]
          },
          "metadata": {
            "tags": []
          },
          "execution_count": 62
        }
      ]
    },
    {
      "cell_type": "code",
      "metadata": {
        "id": "8MX1Zx6nZyG0",
        "outputId": "0bda18db-a510-477e-a6aa-53ed28b4b298",
        "colab": {
          "base_uri": "https://localhost:8080/",
          "height": 77
        }
      },
      "source": [
        "answer_df = pd.DataFrame(answers)\n",
        "answer_df[answer_df['id'] == 136555]\n",
        "answer_df.head(1)"
      ],
      "execution_count": 65,
      "outputs": [
        {
          "output_type": "execute_result",
          "data": {
            "text/html": [
              "<div>\n",
              "<style scoped>\n",
              "    .dataframe tbody tr th:only-of-type {\n",
              "        vertical-align: middle;\n",
              "    }\n",
              "\n",
              "    .dataframe tbody tr th {\n",
              "        vertical-align: top;\n",
              "    }\n",
              "\n",
              "    .dataframe thead th {\n",
              "        text-align: right;\n",
              "    }\n",
              "</style>\n",
              "<table border=\"1\" class=\"dataframe\">\n",
              "  <thead>\n",
              "    <tr style=\"text-align: right;\">\n",
              "      <th></th>\n",
              "      <th>id</th>\n",
              "      <th>songs</th>\n",
              "      <th>tags</th>\n",
              "    </tr>\n",
              "  </thead>\n",
              "  <tbody>\n",
              "    <tr>\n",
              "      <th>0</th>\n",
              "      <td>98906</td>\n",
              "      <td>[374156, 418935, 118049, 144663, 659496, 68352...</td>\n",
              "      <td>[버스, 지하철, 퇴근, 드라이브, 기분전환, 저녁, 밤, 감성, 출근길, 휴식]</td>\n",
              "    </tr>\n",
              "  </tbody>\n",
              "</table>\n",
              "</div>"
            ],
            "text/plain": [
              "      id  ...                                           tags\n",
              "0  98906  ...  [버스, 지하철, 퇴근, 드라이브, 기분전환, 저녁, 밤, 감성, 출근길, 휴식]\n",
              "\n",
              "[1 rows x 3 columns]"
            ]
          },
          "metadata": {
            "tags": []
          },
          "execution_count": 65
        }
      ]
    },
    {
      "cell_type": "code",
      "metadata": {
        "id": "dsCeuYLmaI6s",
        "outputId": "e6725101-a9de-44b9-9d4a-b9452e65b6b4",
        "colab": {
          "base_uri": "https://localhost:8080/",
          "height": 77
        }
      },
      "source": [
        "real_answer_df = pd.read_json(\"arena_data/answers/val.json\", encoding='UTF-8')\n",
        "real_answer_df[real_answer_df['id'] == 136555]\n",
        "real_answer_df.head(1)"
      ],
      "execution_count": 66,
      "outputs": [
        {
          "output_type": "execute_result",
          "data": {
            "text/html": [
              "<div>\n",
              "<style scoped>\n",
              "    .dataframe tbody tr th:only-of-type {\n",
              "        vertical-align: middle;\n",
              "    }\n",
              "\n",
              "    .dataframe tbody tr th {\n",
              "        vertical-align: top;\n",
              "    }\n",
              "\n",
              "    .dataframe thead th {\n",
              "        text-align: right;\n",
              "    }\n",
              "</style>\n",
              "<table border=\"1\" class=\"dataframe\">\n",
              "  <thead>\n",
              "    <tr style=\"text-align: right;\">\n",
              "      <th></th>\n",
              "      <th>tags</th>\n",
              "      <th>id</th>\n",
              "      <th>plylst_title</th>\n",
              "      <th>songs</th>\n",
              "      <th>like_cnt</th>\n",
              "      <th>updt_date</th>\n",
              "    </tr>\n",
              "  </thead>\n",
              "  <tbody>\n",
              "    <tr>\n",
              "      <th>0</th>\n",
              "      <td>[출근길, 나만알고있는노래, 운동]</td>\n",
              "      <td>98906</td>\n",
              "      <td>듣기좋은, 좋아서 듣는 노래</td>\n",
              "      <td>[510462, 348396, 572182, 7754, 47216, 487361, ...</td>\n",
              "      <td>7</td>\n",
              "      <td>2018-03-03 10:23:59.000</td>\n",
              "    </tr>\n",
              "  </tbody>\n",
              "</table>\n",
              "</div>"
            ],
            "text/plain": [
              "                  tags     id  ... like_cnt                updt_date\n",
              "0  [출근길, 나만알고있는노래, 운동]  98906  ...        7  2018-03-03 10:23:59.000\n",
              "\n",
              "[1 rows x 6 columns]"
            ]
          },
          "metadata": {
            "tags": []
          },
          "execution_count": 66
        }
      ]
    },
    {
      "cell_type": "code",
      "metadata": {
        "id": "l18R7vO_ccik",
        "outputId": "aadf40ed-c593-4d46-aa58-cff2d6c9cfca",
        "colab": {
          "base_uri": "https://localhost:8080/",
          "height": 316
        }
      },
      "source": [
        ""
      ],
      "execution_count": 72,
      "outputs": [
        {
          "output_type": "error",
          "ename": "ValueError",
          "evalue": "ignored",
          "traceback": [
            "\u001b[0;31m---------------------------------------------------------------------------\u001b[0m",
            "\u001b[0;31mValueError\u001b[0m                                Traceback (most recent call last)",
            "\u001b[0;32m<ipython-input-72-1cac97b09a05>\u001b[0m in \u001b[0;36m<module>\u001b[0;34m()\u001b[0m\n\u001b[0;32m----> 1\u001b[0;31m \u001b[0manswer_df\u001b[0m\u001b[0;34m[\u001b[0m \u001b[0mreal_answer_df\u001b[0m\u001b[0;34m]\u001b[0m\u001b[0;34m\u001b[0m\u001b[0;34m\u001b[0m\u001b[0m\n\u001b[0m",
            "\u001b[0;32m/usr/local/lib/python3.6/dist-packages/pandas/core/frame.py\u001b[0m in \u001b[0;36m__getitem__\u001b[0;34m(self, key)\u001b[0m\n\u001b[1;32m   2887\u001b[0m         \u001b[0;31m# Do we have a (boolean) DataFrame?\u001b[0m\u001b[0;34m\u001b[0m\u001b[0;34m\u001b[0m\u001b[0;34m\u001b[0m\u001b[0m\n\u001b[1;32m   2888\u001b[0m         \u001b[0;32mif\u001b[0m \u001b[0misinstance\u001b[0m\u001b[0;34m(\u001b[0m\u001b[0mkey\u001b[0m\u001b[0;34m,\u001b[0m \u001b[0mDataFrame\u001b[0m\u001b[0;34m)\u001b[0m\u001b[0;34m:\u001b[0m\u001b[0;34m\u001b[0m\u001b[0;34m\u001b[0m\u001b[0m\n\u001b[0;32m-> 2889\u001b[0;31m             \u001b[0;32mreturn\u001b[0m \u001b[0mself\u001b[0m\u001b[0;34m.\u001b[0m\u001b[0mwhere\u001b[0m\u001b[0;34m(\u001b[0m\u001b[0mkey\u001b[0m\u001b[0;34m)\u001b[0m\u001b[0;34m\u001b[0m\u001b[0;34m\u001b[0m\u001b[0m\n\u001b[0m\u001b[1;32m   2890\u001b[0m \u001b[0;34m\u001b[0m\u001b[0m\n\u001b[1;32m   2891\u001b[0m         \u001b[0;31m# Do we have a (boolean) 1d indexer?\u001b[0m\u001b[0;34m\u001b[0m\u001b[0;34m\u001b[0m\u001b[0;34m\u001b[0m\u001b[0m\n",
            "\u001b[0;32m/usr/local/lib/python3.6/dist-packages/pandas/core/generic.py\u001b[0m in \u001b[0;36mwhere\u001b[0;34m(self, cond, other, inplace, axis, level, errors, try_cast)\u001b[0m\n\u001b[1;32m   9003\u001b[0m         \u001b[0mother\u001b[0m \u001b[0;34m=\u001b[0m \u001b[0mcom\u001b[0m\u001b[0;34m.\u001b[0m\u001b[0mapply_if_callable\u001b[0m\u001b[0;34m(\u001b[0m\u001b[0mother\u001b[0m\u001b[0;34m,\u001b[0m \u001b[0mself\u001b[0m\u001b[0;34m)\u001b[0m\u001b[0;34m\u001b[0m\u001b[0;34m\u001b[0m\u001b[0m\n\u001b[1;32m   9004\u001b[0m         return self._where(\n\u001b[0;32m-> 9005\u001b[0;31m             \u001b[0mcond\u001b[0m\u001b[0;34m,\u001b[0m \u001b[0mother\u001b[0m\u001b[0;34m,\u001b[0m \u001b[0minplace\u001b[0m\u001b[0;34m,\u001b[0m \u001b[0maxis\u001b[0m\u001b[0;34m,\u001b[0m \u001b[0mlevel\u001b[0m\u001b[0;34m,\u001b[0m \u001b[0merrors\u001b[0m\u001b[0;34m=\u001b[0m\u001b[0merrors\u001b[0m\u001b[0;34m,\u001b[0m \u001b[0mtry_cast\u001b[0m\u001b[0;34m=\u001b[0m\u001b[0mtry_cast\u001b[0m\u001b[0;34m\u001b[0m\u001b[0;34m\u001b[0m\u001b[0m\n\u001b[0m\u001b[1;32m   9006\u001b[0m         )\n\u001b[1;32m   9007\u001b[0m \u001b[0;34m\u001b[0m\u001b[0m\n",
            "\u001b[0;32m/usr/local/lib/python3.6/dist-packages/pandas/core/generic.py\u001b[0m in \u001b[0;36m_where\u001b[0;34m(self, cond, other, inplace, axis, level, errors, try_cast)\u001b[0m\n\u001b[1;32m   8764\u001b[0m                 \u001b[0;32mfor\u001b[0m \u001b[0mdt\u001b[0m \u001b[0;32min\u001b[0m \u001b[0mcond\u001b[0m\u001b[0;34m.\u001b[0m\u001b[0mdtypes\u001b[0m\u001b[0;34m:\u001b[0m\u001b[0;34m\u001b[0m\u001b[0;34m\u001b[0m\u001b[0m\n\u001b[1;32m   8765\u001b[0m                     \u001b[0;32mif\u001b[0m \u001b[0;32mnot\u001b[0m \u001b[0mis_bool_dtype\u001b[0m\u001b[0;34m(\u001b[0m\u001b[0mdt\u001b[0m\u001b[0;34m)\u001b[0m\u001b[0;34m:\u001b[0m\u001b[0;34m\u001b[0m\u001b[0;34m\u001b[0m\u001b[0m\n\u001b[0;32m-> 8766\u001b[0;31m                         \u001b[0;32mraise\u001b[0m \u001b[0mValueError\u001b[0m\u001b[0;34m(\u001b[0m\u001b[0mmsg\u001b[0m\u001b[0;34m.\u001b[0m\u001b[0mformat\u001b[0m\u001b[0;34m(\u001b[0m\u001b[0mdtype\u001b[0m\u001b[0;34m=\u001b[0m\u001b[0mdt\u001b[0m\u001b[0;34m)\u001b[0m\u001b[0;34m)\u001b[0m\u001b[0;34m\u001b[0m\u001b[0;34m\u001b[0m\u001b[0m\n\u001b[0m\u001b[1;32m   8767\u001b[0m         \u001b[0;32melse\u001b[0m\u001b[0;34m:\u001b[0m\u001b[0;34m\u001b[0m\u001b[0;34m\u001b[0m\u001b[0m\n\u001b[1;32m   8768\u001b[0m             \u001b[0;31m# GH#21947 we have an empty DataFrame/Series, could be object-dtype\u001b[0m\u001b[0;34m\u001b[0m\u001b[0;34m\u001b[0m\u001b[0;34m\u001b[0m\u001b[0m\n",
            "\u001b[0;31mValueError\u001b[0m: Boolean array expected for the condition, not int64"
          ]
        }
      ]
    },
    {
      "cell_type": "markdown",
      "metadata": {
        "id": "UH_QoUgE9Xz_"
      },
      "source": [
        "예측에 대한 성능 평가 "
      ]
    },
    {
      "cell_type": "code",
      "metadata": {
        "id": "xf6Van-Mgd4j",
        "outputId": "65d12bc0-0e28-4704-fac8-7b7d01edf553",
        "colab": {
          "base_uri": "https://localhost:8080/"
        }
      },
      "source": [
        "from evaluate import ArenaEvaluator\n",
        "arenaEvaluator = ArenaEvaluator()\n",
        "rec_fname='arena_data/results/results.json'\n",
        "arenaEvaluator.evaluate(gt_fname='arena_data/answers/val.json', rec_fname=rec_fname)\n"
      ],
      "execution_count": 50,
      "outputs": [
        {
          "output_type": "stream",
          "text": [
            "Music nDCG: 0.0413319\n",
            "Tag nDCG: 0.162665\n",
            "Score: 0.0595319\n"
          ],
          "name": "stdout"
        }
      ]
    },
    {
      "cell_type": "code",
      "metadata": {
        "id": "P7_QjfhYBdD8"
      },
      "source": [
        ""
      ],
      "execution_count": null,
      "outputs": []
    }
  ]
}